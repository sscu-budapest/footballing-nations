{
 "cells": [
  {
   "cell_type": "code",
   "execution_count": 1,
   "id": "1add9dc3",
   "metadata": {},
   "outputs": [],
   "source": [
    "import datetime as dt\n",
    "import json\n",
    "import re\n",
    "import time\n",
    "\n",
    "import datazimmer as dz\n",
    "import pandas as pd\n",
    "\n",
    "from aswan import get_soup, get_json, add_url_params, ConnectionError\n",
    "from tqdm import tqdm"
   ]
  },
  {
   "cell_type": "code",
   "execution_count": 2,
   "id": "77e8fd68",
   "metadata": {},
   "outputs": [
    {
     "name": "stdout",
     "output_type": "stream",
     "text": [
      "2023-06-22 16:45.06 [warning  ] can't get module name, likely due to notebook call\n"
     ]
    }
   ],
   "source": [
    "fifa_rank_base = dz.SourceUrl(\"https://www.fifa.com/fifa-world-ranking/men\")"
   ]
  },
  {
   "cell_type": "code",
   "execution_count": 3,
   "id": "639ae27e",
   "metadata": {},
   "outputs": [],
   "source": [
    "soup = get_soup(fifa_rank_base)"
   ]
  },
  {
   "cell_type": "code",
   "execution_count": 4,
   "id": "014e2b0b",
   "metadata": {},
   "outputs": [],
   "source": [
    "dr = '\"dates\"\\:\\[.*?\\]'"
   ]
  },
  {
   "cell_type": "code",
   "execution_count": 5,
   "id": "40bc8d55",
   "metadata": {},
   "outputs": [],
   "source": [
    "date_ids = json.loads(\"{\" + re.findall(dr, str(soup))[0] + \"}\")"
   ]
  },
  {
   "cell_type": "code",
   "execution_count": 6,
   "id": "b053d6d6",
   "metadata": {},
   "outputs": [
    {
     "name": "stderr",
     "output_type": "stream",
     "text": [
      "100%|████████████████████████████████████████████████████████████████████████████████████████████████████████████████████████████████████████████████████████████████████████████████████████████████████| 324/324 [01:31<00:00,  3.53it/s]\n"
     ]
    }
   ],
   "source": [
    "ranks_by_date = {}\n",
    "for date_dic in tqdm(date_ids[\"dates\"]):\n",
    "    did = date_dic[\"id\"]\n",
    "    ranks_by_date[did] = get_json(\n",
    "        \"https://www.fifa.com/api/ranking-overview\",\n",
    "        params={\"locale\": \"en\", \"dateId\": date_dic[\"id\"]},\n",
    "    )\n",
    "    time.sleep(0.1)"
   ]
  },
  {
   "cell_type": "code",
   "execution_count": 7,
   "id": "7f573118",
   "metadata": {},
   "outputs": [],
   "source": [
    "uefa_seasons = list(range(2003, dt.date.today().year + 1))"
   ]
  },
  {
   "cell_type": "code",
   "execution_count": 8,
   "id": "f5976d3d",
   "metadata": {},
   "outputs": [
    {
     "name": "stderr",
     "output_type": "stream",
     "text": [
      "\r",
      "  0%|                                                                                                                                                                                                               | 0/21 [00:00<?, ?it/s]"
     ]
    },
    {
     "name": "stdout",
     "output_type": "stream",
     "text": [
      "2023-06-22 16:46.40 [warning  ] Failed Try                     attempt=0 e_msg=404 e_type=int handler=RequestJsonHandler proxy=None status=RETRY url=https://comp.uefa.com/v2/coefficients?coefficientType=MEN_CLUB&coefficientRange=OVERALL&seasonYear=2003&page=1&pagesize=500&language=en\n",
      "2023-06-22 16:46.40 [warning  ] Failed Try                     attempt=1 e_msg=404 e_type=int handler=RequestJsonHandler proxy=None status=RETRY url=https://comp.uefa.com/v2/coefficients?coefficientType=MEN_CLUB&coefficientRange=OVERALL&seasonYear=2003&page=1&pagesize=500&language=en\n"
     ]
    },
    {
     "name": "stderr",
     "output_type": "stream",
     "text": [
      "\r",
      "  5%|█████████▍                                                                                                                                                                                             | 1/21 [00:02<00:49,  2.48s/it]"
     ]
    },
    {
     "name": "stdout",
     "output_type": "stream",
     "text": [
      "2023-06-22 16:46.42 [warning  ] Failed Try                     attempt=0 e_msg=404 e_type=int handler=RequestJsonHandler proxy=None status=RETRY url=https://comp.uefa.com/v2/coefficients?coefficientType=MEN_CLUB&coefficientRange=OVERALL&seasonYear=2004&page=1&pagesize=500&language=en\n",
      "2023-06-22 16:46.43 [warning  ] Failed Try                     attempt=1 e_msg=404 e_type=int handler=RequestJsonHandler proxy=None status=RETRY url=https://comp.uefa.com/v2/coefficients?coefficientType=MEN_CLUB&coefficientRange=OVERALL&seasonYear=2004&page=1&pagesize=500&language=en\n"
     ]
    },
    {
     "name": "stderr",
     "output_type": "stream",
     "text": [
      "100%|██████████████████████████████████████████████████████████████████████████████████████████████████████████████████████████████████████████████████████████████████████████████████████████████████████| 21/21 [00:31<00:00,  1.52s/it]\n"
     ]
    }
   ],
   "source": [
    "outer_keys = [\"countryName\", \"displayName\"]\n",
    "\n",
    "all_ranks = []\n",
    "for season_year in tqdm(uefa_seasons):\n",
    "    for pref in [\n",
    "        \"coefficientType=MEN_CLUB&coefficientRange=OVERALL\",\n",
    "        \"coefficientType=MEN_ASSOCIATION&coefficientRange=SEASONAL\",\n",
    "        \"coefficientType=MEN_ASSOCIATION&coefficientRange=OVERALL\",\n",
    "    ]:\n",
    "        url = (\n",
    "            f\"https://comp.uefa.com/v2/coefficients?{pref}&\"\n",
    "            f\"seasonYear={season_year}&page=1&pagesize=500&language=en\"\n",
    "        )\n",
    "\n",
    "        try:\n",
    "            club_json = get_json(url)\n",
    "        except ConnectionError:\n",
    "            continue\n",
    "\n",
    "        for member in club_json[\"data\"][\"members\"]:\n",
    "            outer_d = {k: member[\"member\"][k] for k in outer_keys}\n",
    "            for ranks in member[\"seasonRankings\"]:\n",
    "                all_ranks.append(outer_d | ranks)\n",
    "    time.sleep(1)"
   ]
  },
  {
   "cell_type": "code",
   "execution_count": 11,
   "id": "d4d85310",
   "metadata": {},
   "outputs": [],
   "source": [
    "pd.DataFrame(all_ranks).drop_duplicates().to_csv(dz.get_raw_data_path(\"uefa-ranks.csv\"), index=None)"
   ]
  },
  {
   "cell_type": "code",
   "execution_count": 12,
   "id": "a8afb53d",
   "metadata": {},
   "outputs": [],
   "source": [
    "date_dic = {d[\"id\"]: d[\"text\"] for d in date_ids[\"dates\"]}"
   ]
  },
  {
   "cell_type": "code",
   "execution_count": 13,
   "id": "e55881f5",
   "metadata": {},
   "outputs": [],
   "source": [
    "todrop = [\"flag\", \"tag\"]"
   ]
  },
  {
   "cell_type": "code",
   "execution_count": 14,
   "id": "f1123bf6",
   "metadata": {},
   "outputs": [],
   "source": [
    "def flat(d0):\n",
    "    d = d0.copy()\n",
    "    ri = d.pop(\"rankingItem\")\n",
    "    return {k: v for k, v in (ri | d).items() if k not in todrop}"
   ]
  },
  {
   "cell_type": "code",
   "execution_count": 19,
   "id": "dee36724",
   "metadata": {},
   "outputs": [],
   "source": [
    "fifa_dfs = []\n",
    "for k, v in ranks_by_date.items():\n",
    "    fifa_dfs.append(pd.DataFrame(map(flat, v[\"rankings\"] or [])).assign(date=date_dic[k]))"
   ]
  },
  {
   "cell_type": "code",
   "execution_count": 23,
   "id": "10df8f1f",
   "metadata": {},
   "outputs": [],
   "source": [
    "pd.concat(fifa_dfs, ignore_index=True).drop_duplicates().to_csv(\n",
    "    dz.get_raw_data_path(\"fifa-ranks.csv\"), index=None\n",
    ")"
   ]
  }
 ],
 "metadata": {
  "kernelspec": {
   "display_name": "Python 3 (ipykernel)",
   "language": "python",
   "name": "python3"
  },
  "language_info": {
   "codemirror_mode": {
    "name": "ipython",
    "version": 3
   },
   "file_extension": ".py",
   "mimetype": "text/x-python",
   "name": "python",
   "nbconvert_exporter": "python",
   "pygments_lexer": "ipython3",
   "version": "3.10.6"
  }
 },
 "nbformat": 4,
 "nbformat_minor": 5
}
