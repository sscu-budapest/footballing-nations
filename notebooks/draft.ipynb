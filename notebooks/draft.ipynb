{
 "cells": [
  {
   "cell_type": "code",
   "execution_count": null,
   "id": "1add9dc3",
   "metadata": {},
   "outputs": [],
   "source": [
    "import datetime as dt\n",
    "import json\n",
    "import re\n",
    "import time\n",
    "\n",
    "import datazimmer as dz\n",
    "import pandas as pd\n",
    "\n",
    "from aswan import get_soup, get_json, add_url_params, ConnectionError\n",
    "from tqdm import tqdm"
   ]
  },
  {
   "cell_type": "code",
   "execution_count": null,
   "id": "77e8fd68",
   "metadata": {},
   "outputs": [],
   "source": [
    "fifa_rank_base = dz.SourceUrl(\"https://www.fifa.com/fifa-world-ranking/men\")"
   ]
  },
  {
   "cell_type": "code",
   "execution_count": null,
   "id": "639ae27e",
   "metadata": {},
   "outputs": [],
   "source": [
    "soup = get_soup(fifa_rank_base)"
   ]
  },
  {
   "cell_type": "code",
   "execution_count": null,
   "id": "014e2b0b",
   "metadata": {},
   "outputs": [],
   "source": [
    "dr = '\"dates\"\\:\\[.*?\\]'"
   ]
  },
  {
   "cell_type": "code",
   "execution_count": null,
   "id": "40bc8d55",
   "metadata": {},
   "outputs": [],
   "source": [
    "date_ids = json.loads(\"{\" + re.findall(dr, str(soup))[0] + \"}\")"
   ]
  },
  {
   "cell_type": "code",
   "execution_count": null,
   "id": "b053d6d6",
   "metadata": {},
   "outputs": [],
   "source": [
    "ranks_by_date = {}\n",
    "for date_dic in tqdm(date_ids[\"dates\"]):\n",
    "    did = date_dic[\"id\"]\n",
    "    ranks_by_date[did] = get_json(\n",
    "        \"https://www.fifa.com/api/ranking-overview\",\n",
    "        params={\"locale\": \"en\", \"dateId\": date_dic[\"id\"]},\n",
    "    )\n",
    "    time.sleep(0.1)"
   ]
  },
  {
   "cell_type": "code",
   "execution_count": null,
   "id": "7f573118",
   "metadata": {},
   "outputs": [],
   "source": [
    "uefa_seasons = list(range(2003, dt.date.today().year + 1))"
   ]
  },
  {
   "cell_type": "code",
   "execution_count": null,
   "id": "f5976d3d",
   "metadata": {},
   "outputs": [],
   "source": [
    "outer_keys = [\"countryName\", \"displayName\"]\n",
    "\n",
    "all_ranks = []\n",
    "for season_year in tqdm(uefa_seasons):\n",
    "    for pref in [\n",
    "        \"coefficientType=MEN_CLUB&coefficientRange=OVERALL\",\n",
    "        \"coefficientType=MEN_ASSOCIATION&coefficientRange=SEASONAL\",\n",
    "        \"coefficientType=MEN_ASSOCIATION&coefficientRange=OVERALL\",\n",
    "    ]:\n",
    "        url = (\n",
    "            f\"https://comp.uefa.com/v2/coefficients?{pref}&\"\n",
    "            f\"seasonYear={season_year}&page=1&pagesize=500&language=en\"\n",
    "        )\n",
    "\n",
    "        try:\n",
    "            club_json = get_json(url)\n",
    "        except ConnectionError:\n",
    "            continue\n",
    "\n",
    "        for member in club_json[\"data\"][\"members\"]:\n",
    "            outer_d = {k: member[\"member\"][k] for k in outer_keys}\n",
    "            for ranks in member[\"seasonRankings\"]:\n",
    "                all_ranks.append(outer_d | ranks)\n",
    "    time.sleep(1)"
   ]
  },
  {
   "cell_type": "code",
   "execution_count": null,
   "id": "d4d85310",
   "metadata": {},
   "outputs": [],
   "source": [
    "pd.DataFrame(all_ranks).to_csv(dz.get_raw_data_path(\"uefa-ranks.csv\"), index=None)"
   ]
  },
  {
   "cell_type": "code",
   "execution_count": null,
   "id": "a8afb53d",
   "metadata": {},
   "outputs": [],
   "source": [
    "date_dic = {d[\"id\"]: d[\"text\"] for d in date_ids[\"dates\"]}"
   ]
  },
  {
   "cell_type": "code",
   "execution_count": null,
   "id": "e55881f5",
   "metadata": {},
   "outputs": [],
   "source": [
    "todrop = [\"flag\", \"tag\"]"
   ]
  },
  {
   "cell_type": "code",
   "execution_count": null,
   "id": "f1123bf6",
   "metadata": {},
   "outputs": [],
   "source": [
    "def flat(d0):\n",
    "    d = d0.copy()\n",
    "    ri = d.pop(\"rankingItem\")\n",
    "    return {k: v for k, v in (ri | d).items() if k not in todrop}"
   ]
  },
  {
   "cell_type": "code",
   "execution_count": null,
   "id": "dee36724",
   "metadata": {},
   "outputs": [],
   "source": [
    "fifa_dfs = []\n",
    "for k, v in ranks_by_date.items():\n",
    "    fifa_dfs.append(pd.DataFrame(map(flat, v[\"rankings\"])).assign(date=date_dic[k]))"
   ]
  },
  {
   "cell_type": "code",
   "execution_count": null,
   "id": "10df8f1f",
   "metadata": {},
   "outputs": [],
   "source": [
    "pd.concat(fifa_dfs, ignore_index=True).to_csv(\n",
    "    dz.get_raw_data_path(\"fifa-ranks.csv\"), index=None\n",
    ")"
   ]
  }
 ],
 "metadata": {
  "kernelspec": {
   "display_name": "Python 3 (ipykernel)",
   "language": "python",
   "name": "python3"
  },
  "language_info": {
   "codemirror_mode": {
    "name": "ipython",
    "version": 3
   },
   "file_extension": ".py",
   "mimetype": "text/x-python",
   "name": "python",
   "nbconvert_exporter": "python",
   "pygments_lexer": "ipython3",
   "version": "3.10.6"
  }
 },
 "nbformat": 4,
 "nbformat_minor": 5
}
